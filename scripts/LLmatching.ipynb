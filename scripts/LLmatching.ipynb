{
 "cells": [
  {
   "cell_type": "markdown",
   "id": "b4a48164",
   "metadata": {},
   "source": [
    "# Histogram matching\n",
    "\n",
    "This script takes in images and matches their pixel value histograms."
   ]
  },
  {
   "cell_type": "code",
   "execution_count": 1,
   "id": "3070da6f",
   "metadata": {},
   "outputs": [
    {
     "name": "stdout",
     "output_type": "stream",
     "text": [
      "All libraries are loaded.\n"
     ]
    }
   ],
   "source": [
    "# some packages needed here\n",
    "import cv2 as cv\n",
    "import numpy as np\n",
    "import glob\n",
    "import os\n",
    "from os import listdir\n",
    "from os.path import isfile, join\n",
    "from PIL import Image\n",
    "from scipy import ndimage\n",
    "import matplotlib.pyplot as plt\n",
    "%matplotlib inline\n",
    "from skimage.exposure import match_histograms\n",
    "import math\n",
    "\n",
    "print(\"All libraries are loaded.\")"
   ]
  },
  {
   "cell_type": "markdown",
   "id": "af271b56",
   "metadata": {},
   "source": [
    "## Input path"
   ]
  },
  {
   "cell_type": "code",
   "execution_count": 2,
   "id": "ea371ce1",
   "metadata": {},
   "outputs": [
    {
     "name": "stdout",
     "output_type": "stream",
     "text": [
      "There are 80 images to process.\n"
     ]
    }
   ],
   "source": [
    "# give the input path for object images\n",
    "parentPath = os.pardir\n",
    "imagePath = glob.glob(parentPath + \"/COCOimages/*.png\")\n",
    "imagePath.sort() # make sure the files are sorted\n",
    "\n",
    "# count the number of images to process\n",
    "nbrIm = len(imagePath)\n",
    "print('There are', nbrIm, 'images to process.')"
   ]
  },
  {
   "cell_type": "markdown",
   "id": "06897be5",
   "metadata": {},
   "source": [
    "## Output path"
   ]
  },
  {
   "cell_type": "code",
   "execution_count": 3,
   "id": "5a81ad15",
   "metadata": {},
   "outputs": [],
   "source": [
    "# give the output path\n",
    "outputPath = parentPath + r'/objects/'\n",
    "\n",
    "# create the necessary output folder\n",
    "if not os.path.exists(outputPath):\n",
    "    os.makedirs(outputPath)"
   ]
  },
  {
   "cell_type": "markdown",
   "id": "8b329dde",
   "metadata": {},
   "source": [
    "## Histogram matching\n",
    "\n",
    "### Obtaining the average image histogram\n",
    "\n",
    "First, read all images and extract the average pixel value histogram from them. Note the next cell could take a while to execute."
   ]
  },
  {
   "cell_type": "code",
   "execution_count": 4,
   "id": "554a870e",
   "metadata": {},
   "outputs": [],
   "source": [
    "# calculating the average histogram of all objects\n",
    "\n",
    "# creating an empty vector of all possible pixel values\n",
    "pixelValues = np.zeros([256])\n",
    "\n",
    "# adding the number of pixels contained in every object to the vector\n",
    "for file in imagePath:\n",
    "\n",
    "    im = cv.imread(file, -1)\n",
    "    visible = im[:,:,3] == 255\n",
    "    b, g, r, a = cv.split(im)\n",
    "    im = b[visible] # only selecting the object part of the image\n",
    "\n",
    "    for pixel in range(len(im)):\n",
    "        pixel_value = int(im[pixel])\n",
    "        pixelValues[pixel_value] += 1\n",
    "\n",
    "# creating the empty array that will hold all the value points of the histogram\n",
    "ref_array = np.empty(int(np.sum(pixelValues)))\n",
    "\n",
    "# fill in the empty array\n",
    "idx = 0\n",
    "\n",
    "pixels = []\n",
    "for x in range(256): pixels.append(x)\n",
    "\n",
    "for i in pixels:\n",
    "    ref_array[idx : idx + int(pixelValues[i])] = i\n",
    "    idx += int(pixelValues[i])\n",
    "\n",
    "# transform the 1d array obtained into a readable image\n",
    "ref_array = np.reshape(ref_array, (1, len(ref_array))) # creating a 1D image from the vector\n",
    "ref_im = ref_array.astype('uint8')\n",
    "\n",
    "# get the average pixel colour\n",
    "avg_colour = np.mean(ref_array)"
   ]
  },
  {
   "cell_type": "markdown",
   "id": "3ecb29fd",
   "metadata": {},
   "source": [
    "### Equating image histograms\n",
    "\n",
    "Next, read images, match their histogram to the average histogram, and write them. Note the next cell could take a while to execute."
   ]
  },
  {
   "cell_type": "code",
   "execution_count": 6,
   "id": "6e5cb02e",
   "metadata": {},
   "outputs": [
    {
     "name": "stdout",
     "output_type": "stream",
     "text": [
      "0 images processed.\n",
      "1 images processed.\n",
      "2 images processed.\n",
      "3 images processed.\n",
      "4 images processed.\n",
      "5 images processed.\n",
      "6 images processed.\n",
      "7 images processed.\n",
      "8 images processed.\n",
      "9 images processed.\n",
      "10 images processed.\n",
      "11 images processed.\n",
      "12 images processed.\n",
      "13 images processed.\n",
      "14 images processed.\n",
      "15 images processed.\n",
      "16 images processed.\n",
      "17 images processed.\n",
      "18 images processed.\n",
      "19 images processed.\n",
      "20 images processed.\n",
      "21 images processed.\n",
      "22 images processed.\n",
      "23 images processed.\n",
      "24 images processed.\n",
      "25 images processed.\n",
      "26 images processed.\n",
      "27 images processed.\n",
      "28 images processed.\n",
      "29 images processed.\n",
      "30 images processed.\n",
      "31 images processed.\n",
      "32 images processed.\n",
      "33 images processed.\n",
      "34 images processed.\n",
      "35 images processed.\n",
      "36 images processed.\n",
      "37 images processed.\n",
      "38 images processed.\n",
      "39 images processed.\n",
      "40 images processed.\n",
      "41 images processed.\n",
      "42 images processed.\n",
      "43 images processed.\n",
      "44 images processed.\n",
      "45 images processed.\n",
      "46 images processed.\n",
      "47 images processed.\n",
      "48 images processed.\n",
      "49 images processed.\n",
      "50 images processed.\n",
      "51 images processed.\n",
      "52 images processed.\n",
      "53 images processed.\n",
      "54 images processed.\n",
      "55 images processed.\n",
      "56 images processed.\n",
      "57 images processed.\n",
      "58 images processed.\n",
      "59 images processed.\n",
      "60 images processed.\n",
      "61 images processed.\n",
      "62 images processed.\n",
      "63 images processed.\n",
      "64 images processed.\n",
      "65 images processed.\n",
      "66 images processed.\n",
      "67 images processed.\n",
      "68 images processed.\n",
      "69 images processed.\n",
      "70 images processed.\n",
      "71 images processed.\n",
      "72 images processed.\n",
      "73 images processed.\n",
      "74 images processed.\n",
      "75 images processed.\n",
      "76 images processed.\n",
      "77 images processed.\n",
      "78 images processed.\n",
      "79 images processed.\n",
      "It's all done, go get a coffee.\n"
     ]
    }
   ],
   "source": [
    "for i in range(len(imagePath)):\n",
    "    \n",
    "    file = imagePath[i]\n",
    "    name = os.path.splitext(os.path.basename(file))[0]\n",
    "    \n",
    "    im = cv.imread(file, -1)\n",
    "    mask = ndimage.find_objects(im[:,:,3] > 0)[0] # find the bounding box containing the object\n",
    "    im = im[mask] # only keep the object\n",
    "    transparent = im[:,:,3] == 0\n",
    "\n",
    "    # split the image to only equate the visible channels\n",
    "    b, g, r, a = cv.split(im)\n",
    "    b[transparent] = avg_colour\n",
    "    \n",
    "    b = match_histograms(b, ref_im)\n",
    "    b = b.astype('uint8') # necessary for openCV\n",
    "    \n",
    "    # merge again to keep the transparency\n",
    "    im = cv.merge([b, b, b, a])\n",
    "    \n",
    "    cv.imwrite(outputPath + name + '.png', im)\n",
    "    \n",
    "    print(i, 'images processed.')\n",
    "    \n",
    "print('It\\'s all done, go get a coffee.')"
   ]
  }
 ],
 "metadata": {
  "kernelspec": {
   "display_name": "Python 3 (ipykernel)",
   "language": "python",
   "name": "python3"
  },
  "language_info": {
   "codemirror_mode": {
    "name": "ipython",
    "version": 3
   },
   "file_extension": ".py",
   "mimetype": "text/x-python",
   "name": "python",
   "nbconvert_exporter": "python",
   "pygments_lexer": "ipython3",
   "version": "3.10.1"
  }
 },
 "nbformat": 4,
 "nbformat_minor": 5
}
