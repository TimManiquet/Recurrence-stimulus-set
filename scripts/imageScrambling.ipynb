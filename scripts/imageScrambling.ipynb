{
 "cells": [
  {
   "cell_type": "markdown",
   "id": "05deca35",
   "metadata": {},
   "source": [
    "# Image scrambling\n",
    "\n",
    "This script takes in images, extracts their Fourier transform, and randomizes their phase spectrum fully. The result is scrambled versions of the images which are then saved.\n",
    "\n",
    "Input images come from two folders, `heavy_clutter` and `light_clutter`. All images are scrambled in the same way. Output images are then written in two different folders, depending on the one they come from, `scrambled_heavy_clutter` and `scrambled_light_clutter`."
   ]
  },
  {
   "cell_type": "markdown",
   "id": "74feda33",
   "metadata": {},
   "source": [
    "## Preamble"
   ]
  },
  {
   "cell_type": "code",
   "execution_count": 1,
   "id": "6a8ae164",
   "metadata": {},
   "outputs": [
    {
     "name": "stdout",
     "output_type": "stream",
     "text": [
      "All libraries are loaded.\n"
     ]
    }
   ],
   "source": [
    "import cv2 as cv\n",
    "import numpy as np\n",
    "import glob\n",
    "import os\n",
    "print(\"All libraries are loaded.\")\n",
    "%matplotlib inline"
   ]
  },
  {
   "cell_type": "markdown",
   "id": "c2d28ba4",
   "metadata": {},
   "source": [
    "## Set the input path"
   ]
  },
  {
   "cell_type": "code",
   "execution_count": 22,
   "id": "f11d2a57",
   "metadata": {},
   "outputs": [
    {
     "name": "stdout",
     "output_type": "stream",
     "text": [
      "There are  31  and  50 light- and heavy-clutter background images, respectively.\n"
     ]
    }
   ],
   "source": [
    "# give the input path\n",
    "parentPath = os.pardir\n",
    "lightInputPath = parentPath + '/bckgrndImages/light_clutter/'\n",
    "heavyInputPath = parentPath + '/bckgrndImages/heavy_clutter/'\n",
    "\n",
    "lightClutterPath = glob.glob(lightInputPath + \"*\") # take in all the files in there\n",
    "heavyClutterPath = glob.glob(heavyInputPath + \"*\") # take in all the files in there\n",
    "lightClutterPath.sort() # make sure the files are sorted\n",
    "heavyClutterPath.sort() # make sure the files are sorted\n",
    "\n",
    "# count the number of images to process\n",
    "lighNbrIm = len(lightInputPath)\n",
    "heavyNbrIm = len(heavyClutterPath)\n",
    "\n",
    "print('There are ', lighNbrIm, ' and ', heavyNbrIm, 'light- and heavy-clutter background images, respectively.')"
   ]
  },
  {
   "cell_type": "markdown",
   "id": "b94c9af1",
   "metadata": {},
   "source": [
    "## Set the output path"
   ]
  },
  {
   "cell_type": "code",
   "execution_count": 21,
   "id": "5cec50bf",
   "metadata": {},
   "outputs": [],
   "source": [
    "# name the output paths\n",
    "outputPath = parentPath + r'/bckgrndImages/'\n",
    "lightOutputPath = outputPath + 'scrambled_light_clutter/'\n",
    "heavyOutputPath = outputPath + 'scrambled_heavy_clutter/'\n",
    "\n",
    "listOutputPaths = [lightOutputPath, heavyOutputPath]\n",
    "\n",
    "# create the necessary output folders\n",
    "idx = 0\n",
    "\n",
    "for outputPath in listOutputPaths:\n",
    "    if not os.path.exists(listOutputPaths[idx]):\n",
    "        os.makedirs(listOutputPaths[idx])\n",
    "        idx +=1"
   ]
  },
  {
   "cell_type": "markdown",
   "id": "2da9770f",
   "metadata": {},
   "source": [
    "## Scramble the input images\n",
    "\n",
    "The following cells take in all images from the specified input paths, obtain their Fourier transform, shuffle their phase spectrum and reconstruct them. It does it in two times: first for the light clutter images, then for the heavy clutter images."
   ]
  },
  {
   "cell_type": "code",
   "execution_count": 27,
   "id": "37304529",
   "metadata": {},
   "outputs": [],
   "source": [
    "# scrambling light clutter images\n",
    "\n",
    "for file in lightClutterPath:\n",
    "\n",
    "    # read the image\n",
    "    im = cv.imread(file, 0)\n",
    "\n",
    "    # extracting names for future writing of images\n",
    "    basename = os.path.basename(file)\n",
    "    name = os.path.splitext(basename)[0]\n",
    "    \n",
    "    # get the fourier transform of the image\n",
    "    y = np.fft.fftshift(np.fft.fft2(im))\n",
    "    \n",
    "    # get the phase spectrum and shuffle it\n",
    "    ph = np.angle(y)\n",
    "    np.random.shuffle(ph) # first horizontally\n",
    "    np.random.shuffle(ph.T) # then vertically\n",
    "    ph[im.shape[0]//2, im.shape[1]//2] = 0 # reset the central value to zero\n",
    "\n",
    "    # now let's reconstruct the image\n",
    "    reconstruct = np.real(np.fft.ifft2(np.fft.ifftshift(np.multiply(np.abs(y), np.exp(1j * ph)))))\n",
    "    \n",
    "    # finally save the resulting image\n",
    "    cv.imwrite(lightOutputPath + 'lightClutter' + name + '.png', reconstruct)"
   ]
  },
  {
   "cell_type": "code",
   "execution_count": 28,
   "id": "9aea2cdc",
   "metadata": {},
   "outputs": [],
   "source": [
    "# scrambling heavy clutter images\n",
    "\n",
    "for file in heavyClutterPath:\n",
    "\n",
    "    # read the image\n",
    "    im = cv.imread(file, 0)\n",
    "\n",
    "    # extracting names for future writing of images\n",
    "    basename = os.path.basename(file)\n",
    "    name = os.path.splitext(basename)[0]\n",
    "    \n",
    "    # get the fourier transform of the image\n",
    "    y = np.fft.fftshift(np.fft.fft2(im))\n",
    "    \n",
    "    # get the phase spectrum and shuffle it\n",
    "    ph = np.angle(y)\n",
    "    np.random.shuffle(ph) # first horizontally\n",
    "    np.random.shuffle(ph.T) # then vertically\n",
    "    ph[im.shape[0]//2, im.shape[1]//2] = 0 # reset the central value to zero\n",
    "\n",
    "    # now let's reconstruct the image\n",
    "    reconstruct = np.real(np.fft.ifft2(np.fft.ifftshift(np.multiply(np.abs(y), np.exp(1j * ph)))))\n",
    "    \n",
    "    # finally save the resulting image\n",
    "    cv.imwrite(heavyOutputPath + 'heavyClutter' + name + '.png', reconstruct)"
   ]
  },
  {
   "cell_type": "code",
   "execution_count": null,
   "id": "e30bdfa8",
   "metadata": {},
   "outputs": [],
   "source": []
  }
 ],
 "metadata": {
  "kernelspec": {
   "display_name": "Python 3 (ipykernel)",
   "language": "python",
   "name": "python3"
  },
  "language_info": {
   "codemirror_mode": {
    "name": "ipython",
    "version": 3
   },
   "file_extension": ".py",
   "mimetype": "text/x-python",
   "name": "python",
   "nbconvert_exporter": "python",
   "pygments_lexer": "ipython3",
   "version": "3.10.1"
  }
 },
 "nbformat": 4,
 "nbformat_minor": 5
}
