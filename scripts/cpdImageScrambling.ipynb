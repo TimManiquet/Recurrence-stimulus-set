{
 "cells": [
  {
   "cell_type": "markdown",
   "id": "31d97c31",
   "metadata": {},
   "source": [
    "# cpd Phase scrambling"
   ]
  },
  {
   "cell_type": "markdown",
   "id": "4b7a1091",
   "metadata": {},
   "source": [
    "### What it this?\n",
    "\n",
    "This script takes images from a given directory and returns their phase scrambled version. It does so using a cutoff value between low- and high-pass that is based on **cycles per degree**.\n",
    "\n",
    "### How does it work?\n",
    "\n",
    "Very good question. First check the following requirements:\n",
    "1. Make sure this script is located in a directory (`scripts`) of which the parent directory contains a folder named `images`, where all the images you wish to work on are located.\n",
    "2. Make sure the input images are 4-channel, with the background gray & transparent.\n",
    "3. Input the following values in the preamble:\n",
    "    - A `dva` value, indicating how big images will appear to participants during the experiment.\n",
    "    - A cutoff value in `cpd` to determine the low- and high-pass threshold.\n",
    "\n",
    "The script will operate the following steps:\n",
    "\n",
    "0. From the input parameters, calculate the `cpi` threshold value that will be used next.\n",
    "1. _Fourier transform_ images.\n",
    "2. Create a _mask_ for the low- and high-pass scrambling.\n",
    "3. Replace the masked values of the original phase spectrum with the _phase spectrum of random noise_, above and below this threshold for low- and high-pass scrambled images, respectively."
   ]
  },
  {
   "cell_type": "markdown",
   "id": "c3d11392",
   "metadata": {},
   "source": [
    "## Preamble"
   ]
  },
  {
   "cell_type": "code",
   "execution_count": 1,
   "id": "d01e79a2",
   "metadata": {},
   "outputs": [],
   "source": [
    "# give the input values here\n",
    "# cutoff value in cpd\n",
    "cpdcutoff = 1.5\n",
    "\n",
    "# image size in dva\n",
    "dva = 10"
   ]
  },
  {
   "cell_type": "code",
   "execution_count": 2,
   "id": "94a4df52",
   "metadata": {},
   "outputs": [
    {
     "name": "stdout",
     "output_type": "stream",
     "text": [
      "All libraries are loaded.\n"
     ]
    }
   ],
   "source": [
    "import cv2 as cv\n",
    "import numpy as np\n",
    "import glob\n",
    "import os\n",
    "import time\n",
    "from numpy.random import randint\n",
    "import matplotlib.pyplot as plt\n",
    "np.random.seed()\n",
    "print(\"All libraries are loaded.\")"
   ]
  },
  {
   "cell_type": "markdown",
   "id": "f71e506c",
   "metadata": {},
   "source": [
    "\n",
    "\n",
    "### Set the input path"
   ]
  },
  {
   "cell_type": "code",
   "execution_count": 3,
   "id": "e1f5b4f5",
   "metadata": {},
   "outputs": [],
   "source": [
    "# give the input path\n",
    "parentPath = os.pardir\n",
    "inputPath = parentPath + '/images/'\n",
    "\n",
    "imagePath = glob.glob(inputPath + \"*\") # take in all the files in there\n",
    "imagePath.sort() # make sure the files are sorted\n",
    "\n",
    "# count the number of images to process\n",
    "nbrIm = len(imagePath)"
   ]
  },
  {
   "cell_type": "code",
   "execution_count": 4,
   "id": "2ea926e8",
   "metadata": {},
   "outputs": [],
   "source": [
    "# quickly get the image size parameter\n",
    "imSize = (cv.imread(imagePath[0], 0)).shape[0]"
   ]
  },
  {
   "cell_type": "markdown",
   "id": "ef80c0ba",
   "metadata": {},
   "source": [
    "### Cutoff parameters\n",
    "\n",
    "Based on previous literature, this script cuts off frequencies above and below `1 cpd` by default (but you can change that value, see below). With input images sized 400x400, for instance, that means scrambling above and below `8 cpi`. This value is calculated based on the image size automatically with regard to the input _cycles per degree_ value, and considering an image size of 8x8 dva (as we usually have in the lab).\n",
    "\n",
    "Make sure to choose a cpd value to use as a cutoff. Here are some indications on how to choose:\n",
    "\n",
    "- From a physiological point of view, the M- and P-channels are differently sensitive to frequencies above and below 1.5 cpd.\n",
    "- From articles such as Canario et al 2016, values such as 1 cpd are found.\n",
    "\n",
    "_Note that shuffling the phase of low frequencies has a much stronger effect than doing so for high frequencies._"
   ]
  },
  {
   "cell_type": "code",
   "execution_count": 5,
   "id": "76814f12",
   "metadata": {},
   "outputs": [],
   "source": [
    "# calculate the cpi cutoff value\n",
    "cpicutoff = ((imSize/2)/((imSize/2)/dva)) * cpdcutoff"
   ]
  },
  {
   "cell_type": "code",
   "execution_count": 6,
   "id": "8b472fd6",
   "metadata": {},
   "outputs": [],
   "source": [
    "# decide on the manipulations\n",
    "doLPscrambling = True\n",
    "doHPscrambling = True\n",
    "\n",
    "doManipulations = (doLPscrambling, doHPscrambling)"
   ]
  },
  {
   "cell_type": "markdown",
   "id": "1d4b9df1",
   "metadata": {},
   "source": [
    "### Set the output path"
   ]
  },
  {
   "cell_type": "code",
   "execution_count": 7,
   "id": "21578af6",
   "metadata": {},
   "outputs": [],
   "source": [
    "# name the output paths\n",
    "outputPath = parentPath + r'/output/scramblingOuput/'\n",
    "outputPathLPscrambling = outputPath + 'lowPass/'\n",
    "outputPathHPscrambling = outputPath + 'highPass/'\n",
    "\n",
    "listOutputPaths = [outputPathLPscrambling, outputPathHPscrambling]\n",
    "\n",
    "# create the necessary output folders\n",
    "idx = 0\n",
    "\n",
    "for manipulation in doManipulations:\n",
    "    if manipulation:\n",
    "        if not os.path.exists(listOutputPaths[idx]):\n",
    "            os.makedirs(listOutputPaths[idx])\n",
    "            idx +=1"
   ]
  },
  {
   "cell_type": "markdown",
   "id": "9191b633",
   "metadata": {},
   "source": [
    "## Start scrambling"
   ]
  },
  {
   "cell_type": "markdown",
   "id": "92deb587",
   "metadata": {},
   "source": [
    "The next cell runs the actual scrambling. Here is how it proceeds:\n",
    "1. Two masks are created, for high- and low-pass scrambling. They mask either a central square with dimensions `cpiThesh x cpiThresh`, or everything around it.\n",
    "2. The phase spectrum is extracted from the image twice.\n",
    "3. A random noise image is created that has a similar pixel value distribution than the original image. The phase spectrum is obtained from that random noise.\n",
    "4. Each version of the phase spectrum of the original image is amended by replacing its masked values by those of the phase spectrum of the random noise."
   ]
  },
  {
   "cell_type": "code",
   "execution_count": 8,
   "id": "7eba8db6",
   "metadata": {},
   "outputs": [],
   "source": [
    "for file in imagePath:\n",
    "\n",
    "    # read the image\n",
    "    im = cv.imread(file, 0)\n",
    "\n",
    "    # extracting names for future writing of images\n",
    "    basename = os.path.basename(file)\n",
    "    name = os.path.splitext(basename)[0]\n",
    "\n",
    "    # Finding the rectangle that separates magnitude in 2 equally weighted parts\n",
    "\n",
    "    # apply Fourier transform and get amplitude & phase\n",
    "    y = np.fft.fftshift(np.fft.fft2(im)) # 2-dimensional FFT of the image\n",
    "    ph_high = np.angle(y) # get the phase spectrum\n",
    "    ph_low = np.angle(y) # do it twice for high- and low-pass\n",
    "    mag = np.abs(y) # get the magnitude spectrum\n",
    "\n",
    "    # Find the image center\n",
    "    im_center = im.shape[0]//2, im.shape[1]//2\n",
    "    \n",
    "    # create the cutoff coordinates\n",
    "    cutoff_box = [im_center[0] - int(cpicutoff), im_center[0] + int(cpicutoff),\n",
    "                  im_center[1] - int(cpicutoff), im_center[1] + int(cpicutoff)]\n",
    "    \n",
    "    # here we replace parts of the phase spectrum with random noise\n",
    "    # we create random noise that is normally distributed according to the mean and sd of the original image\n",
    "    scale = np.std(im) # taking the SD of the phase spectrum\n",
    "    loc = np.ndarray.mean(im) # taking the mean of the phase spectrum\n",
    "    # get the phase spectrum of that random noise\n",
    "    randomPhase = np.angle(np.fft.fft2(np.random.normal(loc = loc, scale = scale, size = im.shape)))\n",
    "    \n",
    "    # taking the phase center value to paste it back\n",
    "    ph_center = np.angle(y)[im_center[0]-1 : im_center[0]+1, im_center[1]-1 : im_center[1]+1]\n",
    "    \n",
    "    # high-pass scrambling\n",
    "    box_center = np.ones_like(im) # background of the mask, same size as the image\n",
    "    box_center[cutoff_box[0]: cutoff_box[1], cutoff_box[2]: cutoff_box[3]] = 0\n",
    "    mask_center = box_center[:]==0\n",
    "    ph_high[mask_center] = randomPhase[mask_center]\n",
    "    # recover the center of the phase spectrum\n",
    "    ph_high[im_center[0], im_center[1]] = 0.0\n",
    "\n",
    "    # low-pass scrambling\n",
    "    box_surround = np.zeros_like(im) # background of the mask, same size as the image\n",
    "    box_surround[cutoff_box[0]: cutoff_box[1], cutoff_box[2]: cutoff_box[3]] = 1\n",
    "    mask_surround = box_surround[:]==0\n",
    "    ph_low[mask_surround] = randomPhase[mask_surround]\n",
    "    # recover the center of the phase spectrum\n",
    "    ph_low[im_center[0], im_center[1]] = 0.0\n",
    "\n",
    "    # reconstructing the high-pass version\n",
    "    reconstruct_high = np.real(np.fft.ifft2(np.fft.ifftshift(np.multiply(np.abs(y), np.exp(1j * ph_high)))))\n",
    "    \n",
    "    # reconstructing the low-pass version\n",
    "    reconstruct_low = np.real(np.fft.ifft2(np.fft.ifftshift(np.multiply(np.abs(y), np.exp(1j * ph_low)))))\n",
    "\n",
    "    # write the images after manipulation\n",
    "    cv.imwrite(outputPathLPscrambling + 'LP' + name + '.png', reconstruct_low)\n",
    "    cv.imwrite(outputPathHPscrambling + 'HP' + name + '.png', reconstruct_high)"
   ]
  }
 ],
 "metadata": {
  "kernelspec": {
   "display_name": "Python 3 (ipykernel)",
   "language": "python",
   "name": "python3"
  },
  "language_info": {
   "codemirror_mode": {
    "name": "ipython",
    "version": 3
   },
   "file_extension": ".py",
   "mimetype": "text/x-python",
   "name": "python",
   "nbconvert_exporter": "python",
   "pygments_lexer": "ipython3",
   "version": "3.10.1"
  }
 },
 "nbformat": 4,
 "nbformat_minor": 5
}
