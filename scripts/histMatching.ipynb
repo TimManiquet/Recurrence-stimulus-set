{
 "cells": [
  {
   "cell_type": "markdown",
   "id": "b4a48164",
   "metadata": {},
   "source": [
    "# Histogram matching\n",
    "\n",
    "This script takes in images and matches their pixel value histograms."
   ]
  },
  {
   "cell_type": "code",
   "execution_count": 2,
   "id": "3070da6f",
   "metadata": {},
   "outputs": [
    {
     "name": "stdout",
     "output_type": "stream",
     "text": [
      "All libraries are loaded.\n"
     ]
    }
   ],
   "source": [
    "# some packages needed here\n",
    "import cv2 as cv\n",
    "import numpy as np\n",
    "import glob\n",
    "import os\n",
    "from os import listdir\n",
    "from os.path import isfile, join\n",
    "from PIL import Image\n",
    "from scipy import ndimage\n",
    "import matplotlib.pyplot as plt\n",
    "%matplotlib inline\n",
    "from skimage.exposure import match_histograms\n",
    "import math\n",
    "\n",
    "print(\"All libraries are loaded.\")"
   ]
  },
  {
   "cell_type": "markdown",
   "id": "af271b56",
   "metadata": {},
   "source": [
    "## Input path"
   ]
  },
  {
   "cell_type": "code",
   "execution_count": 4,
   "id": "ea371ce1",
   "metadata": {},
   "outputs": [
    {
     "name": "stdout",
     "output_type": "stream",
     "text": [
      "There are 583 images to process.\n"
     ]
    }
   ],
   "source": [
    "# give the input path for object images\n",
    "parentPath = os.pardir\n",
    "imagePath = glob.glob(parentPath + \"/*/*/*/*.png\")\n",
    "imagePath.sort() # make sure the files are sorted\n",
    "\n",
    "# count the number of images to process\n",
    "nbrIm = len(imagePath)\n",
    "print('There are', nbrIm, 'images to process.')"
   ]
  },
  {
   "cell_type": "markdown",
   "id": "06897be5",
   "metadata": {},
   "source": [
    "## Output path"
   ]
  },
  {
   "cell_type": "code",
   "execution_count": 5,
   "id": "5a81ad15",
   "metadata": {},
   "outputs": [],
   "source": [
    "# give the output path\n",
    "outputPath = parentPath + r'/stimulus_set/'\n",
    "\n",
    "# create the necessary output folder\n",
    "if not os.path.exists(outputPath):\n",
    "    os.makedirs(outputPath)"
   ]
  },
  {
   "cell_type": "markdown",
   "id": "8b329dde",
   "metadata": {},
   "source": [
    "## Histogram matching\n",
    "\n",
    "### Obtaining the average image histogram\n",
    "\n",
    "First, read all images and extract the average pixel value histogram from them. Note the next cell could take a while to execute."
   ]
  },
  {
   "cell_type": "code",
   "execution_count": 6,
   "id": "554a870e",
   "metadata": {},
   "outputs": [],
   "source": [
    "# calculating the average histogram of all objects\n",
    "\n",
    "# creating an empty vector of all possible pixel values\n",
    "pixelValues = np.zeros([256])\n",
    "\n",
    "# adding the number of pixels contained in every object to the vector\n",
    "for file in imagePath:\n",
    "\n",
    "    im = cv.imread(file, 0)\n",
    "\n",
    "    for i in range(0,im.shape[0]):\n",
    "        \n",
    "        for j in range(0,im.shape[1]):\n",
    "            \n",
    "            pixelValues[im[i,j]] += 1\n",
    "\n",
    "# creating the empty array that will hold all the value points of the histogram\n",
    "ref_array = np.empty(int(np.sum(pixelValues)))\n",
    "\n",
    "# fill in the empty array\n",
    "idx = 0\n",
    "\n",
    "pixels = []\n",
    "for x in range(256): pixels.append(x)\n",
    "\n",
    "for i in pixels:\n",
    "    ref_array[idx : idx + int(pixelValues[i])] = i\n",
    "    idx += int(pixelValues[i])\n",
    "\n",
    "# transform the 1d array obtained into a readable image\n",
    "ref_array = np.reshape(ref_array, (1, len(ref_array)))\n",
    "ref_im = ref_array.astype('uint8')"
   ]
  },
  {
   "cell_type": "markdown",
   "id": "3ecb29fd",
   "metadata": {},
   "source": [
    "### Equating image histograms\n",
    "\n",
    "Next, read images, match their histogram to the average histogram, and write them. Note the next cell could take a while to execute."
   ]
  },
  {
   "cell_type": "code",
   "execution_count": 7,
   "id": "6e5cb02e",
   "metadata": {},
   "outputs": [],
   "source": [
    "for i in range(len(imagePath)):\n",
    "    \n",
    "    file = imagePath[i]\n",
    "    name = os.path.splitext(os.path.basename(file))[0]\n",
    "    \n",
    "    im = cv.imread(file, 0)\n",
    "    im = match_histograms(im, ref_im)\n",
    "    \n",
    "    cv.imwrite(outputPath + name + '.png', im)\n",
    "    \n",
    "    print(i, 'images processed.')"
   ]
  },
  {
   "cell_type": "code",
   "execution_count": null,
   "id": "ad186bff",
   "metadata": {},
   "outputs": [],
   "source": []
  }
 ],
 "metadata": {
  "kernelspec": {
   "display_name": "Python 3 (ipykernel)",
   "language": "python",
   "name": "python3"
  },
  "language_info": {
   "codemirror_mode": {
    "name": "ipython",
    "version": 3
   },
   "file_extension": ".py",
   "mimetype": "text/x-python",
   "name": "python",
   "nbconvert_exporter": "python",
   "pygments_lexer": "ipython3",
   "version": "3.10.1"
  }
 },
 "nbformat": 4,
 "nbformat_minor": 5
}
