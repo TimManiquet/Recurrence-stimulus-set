{
 "cells": [
  {
   "cell_type": "markdown",
   "id": "a89c3ba2",
   "metadata": {},
   "source": [
    "# Background & clutter"
   ]
  },
  {
   "cell_type": "markdown",
   "id": "4b7a1091",
   "metadata": {},
   "source": [
    "### What it this?\n",
    "\n",
    "This script imports images, resizes them and pastes them on a background. The latter step is done three ways: using a plain background, a heavily cluttered and a lightly cluttered one.\n",
    "\n",
    "In addition, the script manipulates cluttered backgrounds so that their pixel value histogram matches that of the average object.\n",
    "\n",
    "### How does it work?\n",
    "\n",
    "Very good question. First check the following requirements:\n",
    "1. Make sure this script is located in a directory (`script`) of which the parent directory contains a folder named `COCOimages` and where all the images you wish to work on are located. Those should be images with a `.png` extension, containing objects on transparent backgrounds.\n",
    "2. Make sure the parent directory also contains a `bckgrndImages > scrambled_light_clutter` and a `bckgrndImages > scrambled_heavy_clutter` folder, which contain the necessary cluttered background images.\n",
    "\n",
    "Here are the parameters that need to be set before running the script (check `Preamble`):\n",
    "- `outSize` defines the final resolution of output images (700x700 by default).\n",
    "- `obj_imRatio` defines the space the object will take in the final image. More precisely it corresponds to the ratio of the longer side of the object (width/height) to the size of the image (700 by default).\n",
    "- `col_bckgrnd` defines the color of the plain backgrounds in grayscale value. Leave this value commented out by default: it will take the average pixel value of all objects."
   ]
  },
  {
   "cell_type": "markdown",
   "id": "c3d11392",
   "metadata": {},
   "source": [
    "## Preamble\n",
    "\n",
    "Set the required parameters in the following cell."
   ]
  },
  {
   "cell_type": "code",
   "execution_count": 1,
   "id": "450dd6aa",
   "metadata": {},
   "outputs": [],
   "source": [
    "# decide on the size of the output image\n",
    "outSize = (700, 700)\n",
    "\n",
    "# decide on the size of the object on the image\n",
    "obj_imRatio = 0.5 # decide on the ratio of the object size relative to image size\n",
    "\n",
    "# decide on the color of the background (in grayscale 0-255) \n",
    "# col_backgrnd = 80"
   ]
  },
  {
   "cell_type": "code",
   "execution_count": 2,
   "id": "1d58a0ce",
   "metadata": {},
   "outputs": [
    {
     "name": "stdout",
     "output_type": "stream",
     "text": [
      "All libraries are loaded.\n"
     ]
    }
   ],
   "source": [
    "# some packages needed here\n",
    "import cv2 as cv\n",
    "import numpy as np\n",
    "import glob\n",
    "import os\n",
    "from PIL import Image\n",
    "from scipy import ndimage\n",
    "import matplotlib.pyplot as plt\n",
    "%matplotlib inline\n",
    "from skimage.exposure import match_histograms\n",
    "import math\n",
    "\n",
    "print(\"All libraries are loaded.\")"
   ]
  },
  {
   "cell_type": "code",
   "execution_count": 11,
   "id": "6b5d90cb",
   "metadata": {},
   "outputs": [],
   "source": [
    "# we'll neeed this function as well\n",
    "def round_up_to_even(f):\n",
    "    return math.ceil(f / 2.) * 2"
   ]
  },
  {
   "cell_type": "markdown",
   "id": "f71e506c",
   "metadata": {},
   "source": [
    "### Set the input paths\n",
    "\n",
    "Input paths are given for input object images _(those are the same for **plain** and **cluttered** backgrounds)_. Inputs paths are also given for cluttered backgrounds."
   ]
  },
  {
   "cell_type": "code",
   "execution_count": 3,
   "id": "e1f5b4f5",
   "metadata": {},
   "outputs": [
    {
     "name": "stdout",
     "output_type": "stream",
     "text": [
      "There are 53 images to process.\n"
     ]
    }
   ],
   "source": [
    "# give the input path for object images\n",
    "parentPath = os.pardir\n",
    "inputPath = parentPath + r'/COCOimages/'\n",
    "\n",
    "imagePath = glob.glob(inputPath + \"*\") # take in all the files in there\n",
    "imagePath.sort() # make sure the files are sorted\n",
    "\n",
    "# count the number of images to process\n",
    "nbrIm = len(imagePath)\n",
    "print('There are', nbrIm, 'images to process.')"
   ]
  },
  {
   "cell_type": "code",
   "execution_count": 4,
   "id": "e80ba9d5",
   "metadata": {},
   "outputs": [],
   "source": [
    "# give the input path for cluttered backgrounds\n",
    "heavyClutterPath = parentPath + r'/bckgrndImages/scrambled_heavy_clutter/'\n",
    "lightClutterPath = parentPath + r'/bckgrndImages/scrambled_light_clutter/'\n",
    "\n",
    "heavyClutterPath = glob.glob(heavyClutterPath + \"*\") # take in all the files in there\n",
    "heavyClutterPath.sort()\n",
    "lightClutterPath = glob.glob(lightClutterPath + \"*\")\n",
    "lightClutterPath.sort()"
   ]
  },
  {
   "cell_type": "markdown",
   "id": "1d4b9df1",
   "metadata": {},
   "source": [
    "### Set the output paths\n",
    "\n",
    "Output paths are created for plain backgrounds (`images`) and for cluttered backgrounds (`output/light_clutter` and `output/heavy_clutter`)."
   ]
  },
  {
   "cell_type": "code",
   "execution_count": 5,
   "id": "21578af6",
   "metadata": {},
   "outputs": [],
   "source": [
    "# name the output path for plain backgrounds\n",
    "plain_outputPath = parentPath + r'/images/'\n",
    "\n",
    "# create the necessary output folder\n",
    "if not os.path.exists(plain_outputPath):\n",
    "    os.makedirs(outputPath)"
   ]
  },
  {
   "cell_type": "code",
   "execution_count": 6,
   "id": "3c9f69ea",
   "metadata": {},
   "outputs": [],
   "source": [
    "# name the output path for cluttered backgrounds\n",
    "heavyClutterOutputPath = parentPath + r'/output/clutter/heavy/'\n",
    "lightClutterOutputPath = parentPath + r'/output/clutter/light/'\n",
    "\n",
    "listOutputPaths = [heavyClutterOutputPath, lightClutterOutputPath]\n",
    "\n",
    "# create the necessary output folders\n",
    "idx = 0\n",
    "\n",
    "for outputPath in listOutputPaths:\n",
    "    if not os.path.exists(listOutputPaths[idx]):\n",
    "            os.makedirs(listOutputPaths[idx])\n",
    "            idx +=1"
   ]
  },
  {
   "cell_type": "markdown",
   "id": "169fa423",
   "metadata": {},
   "source": [
    "---\n",
    "## Cluttered backgrounds\n",
    "\n",
    "In this section the backgrounds used are cluttered and not a plain colour. Before pasting objects on their backgrounds, the latter are manipulated so that their histogram matches that of the average of all objects."
   ]
  },
  {
   "cell_type": "markdown",
   "id": "db69df85",
   "metadata": {},
   "source": [
    "### Reisizing images\n",
    "\n",
    "Here we take our objects and paste them on backgrounds, controlling for their overall size in the middle of the resulting image. This is how it's done:\n",
    "1. Objects are extracted from their images by drawing a bounding box around them. From this bounding box the longer side is chosen.\n",
    "2. Objects are pasted at the center of a plain background so that the longer side of their bounding box has a size of `image size * obj_imRatio`."
   ]
  },
  {
   "cell_type": "markdown",
   "id": "ca30852b",
   "metadata": {},
   "source": [
    "### Equating background histograms\n",
    "\n",
    "Backgrounds are manipulated so that the distribution of their pixel values matches that of the average of all objects. Here is how this is done:\n",
    "   1. For each object, the number of pixels matching **each possible pixel value (0-255)** is counted.\n",
    "   2. That number is summed up for each pixel value, from which a histogram of **all total values** can be computed.\n",
    "   3. From that histogram, an image is created that is 1 pixel wide and as long as the total number of pixels of all objects. That single image then has the exact same histogram as that which was derived in `2.`.\n",
    "   4. All background clutter images are then passed through a histogram matching function that matches their pixel distribution to that of the image created in `3.`.\n",
    "   \n",
    "Step `4.` is computed in the next loop, just before objects are being pasted on top of backgrounds."
   ]
  },
  {
   "cell_type": "code",
   "execution_count": 7,
   "id": "f00b8445",
   "metadata": {},
   "outputs": [],
   "source": [
    "# calculating the average histogram of all objects\n",
    "\n",
    "# creating an empty vector of all possible pixel values\n",
    "pixelValues = np.zeros([256])\n",
    "\n",
    "# adding the number of pixels contained in every object to the vector\n",
    "for file in imagePath:\n",
    "\n",
    "    im = cv.imread(file, -1)\n",
    "    visible = im[:,:,3] == 255\n",
    "    b, g, r, a = cv.split(im)\n",
    "    im = b[visible]\n",
    "\n",
    "    for pixel in range(len(im)):\n",
    "        pixel_value = int(im[pixel])\n",
    "        pixelValues[pixel_value] += 1"
   ]
  },
  {
   "cell_type": "code",
   "execution_count": 8,
   "id": "1fd8ea25",
   "metadata": {},
   "outputs": [],
   "source": [
    "# creating the empty array that will hold all the value points of the histogram\n",
    "ref_array = np.empty(int(np.sum(pixelValues)))\n",
    "\n",
    "# fill in the empty array\n",
    "idx = 0\n",
    "\n",
    "pixels = []\n",
    "for x in range(256): pixels.append(x)\n",
    "\n",
    "for i in pixels:\n",
    "    ref_array[idx : idx + int(pixelValues[i])] = i\n",
    "    idx += int(pixelValues[i])\n",
    "\n",
    "# transform the 1d array obtained into a readable image\n",
    "ref_array = np.reshape(ref_array, (1, len(ref_array)))\n",
    "ref_im = ref_array.astype('uint8')\n",
    "\n",
    "# get the average pixel value for plain backgrounds\n",
    "avg_colour = round(np.mean(ref_array))"
   ]
  },
  {
   "cell_type": "code",
   "execution_count": 27,
   "id": "3b57c4ac",
   "metadata": {},
   "outputs": [
    {
     "name": "stdout",
     "output_type": "stream",
     "text": [
      "It's all done! Go have a coffee now.\n"
     ]
    }
   ],
   "source": [
    "# import images, import backgrounds and adjust them, adjust object size, paste objects and export\n",
    "\n",
    "for i in range(len(imagePath)):\n",
    "\n",
    "    # get the image\n",
    "    file = imagePath[i]\n",
    "    \n",
    "    # get the backgrounds\n",
    "    lightBckgrnd = cv.imread(lightClutterPath[i], 0)\n",
    "    lightBckgrnd = (match_histograms(lightBckgrnd, ref_im)).astype('uint8')\n",
    "    heavyBckgrnd = cv.imread(heavyClutterPath[i], 0)\n",
    "    heavyBckgrnd = (match_histograms(heavyBckgrnd, ref_im)).astype('uint8')\n",
    "    # create an alpha channel\n",
    "    alphaSquare = np.ones((lightBckgrnd.shape[0], lightBckgrnd.shape[1]), dtype = np.uint8)*255\n",
    "    lightBckgrnd = cv.merge([lightBckgrnd, lightBckgrnd, lightBckgrnd, alphaSquare])\n",
    "    heavyBckgrnd = cv.merge([heavyBckgrnd, heavyBckgrnd, heavyBckgrnd, alphaSquare])\n",
    "\n",
    "    # get the center of the image\n",
    "    center = outSize[0]//2, outSize[1]//2\n",
    "\n",
    "    # extract the name of the image\n",
    "    basename = os.path.basename(imagePath[i])\n",
    "    name = os.path.splitext(basename)[0]\n",
    "    \n",
    "    # remove the number in the name\n",
    "    for character in name:\n",
    "        if character.isdigit():\n",
    "            name = name.replace(character, \"\")\n",
    "\n",
    "    # read the image\n",
    "    im = cv.imread(file, -1)\n",
    "    mask = ndimage.find_objects(im[:,:,3] > 0)[0] # find the bounding box containing the object\n",
    "    im = im[mask] # only keep the object\n",
    "\n",
    "    # find the larger side & its ratio to the smaller one\n",
    "    if im.shape[0] > im.shape[1]:\n",
    "        ratioSide = im.shape[0]/im.shape[1]\n",
    "        height = int(bckgrnd.shape[0] * obj_imRatio)\n",
    "        width = int(height / ratioSide)\n",
    "    elif im.shape[0] <= im.shape[1]:\n",
    "        ratioSide = im.shape[1]/im.shape[0]\n",
    "        width = int(bckgrnd.shape[1] * obj_imRatio)\n",
    "        height = int(width / ratioSide)\n",
    "    \n",
    "    # create dimensions to resize\n",
    "    dim = (round_up_to_even(width), round_up_to_even(height))\n",
    "\n",
    "    # resize image\n",
    "    resized_im = cv.resize(im, dim, interpolation = cv.INTER_AREA)\n",
    "    \n",
    "    # pasting the resized object on each background\n",
    "    # getting the offset coordinates\n",
    "    x1, x2 = center[1] - resized_im.shape[1]//2, center[1] + resized_im.shape[1]//2\n",
    "    y1, y2 = center[0] - resized_im.shape[0]//2, center[0] + resized_im.shape[0]//2\n",
    "    # amending the alpha values of the image for the loop\n",
    "    b,g,r,a = cv.split(resized_im)\n",
    "    a = a / 255.0\n",
    "    alpha_square = 1.0 - a\n",
    "    # pasting objects on backgrounds\n",
    "    for c in range(0, 3):\n",
    "        lightBckgrnd[y1:y2,x1:x2,c] = (a * resized_im[:, :, c] + alpha_square * lightBckgrnd[y1:y2,x1:x2,c])\n",
    "        heavyBckgrnd[y1:y2,x1:x2,c] = (a * resized_im[:, :, c] + alpha_square * heavyBckgrnd[y1:y2,x1:x2,c])\n",
    "\n",
    "    # write the outputs\n",
    "    cv.imwrite(lightClutterOutputPath + 'lightClutter' + name + str(i) + '.png', lightBckgrnd)\n",
    "    cv.imwrite(heavyClutterOutputPath + 'heavyClutter' + name + str(i) + '.png', heavyBckgrnd)\n",
    "    \n",
    "print('It\\'s all done! Go have a coffee now.')"
   ]
  },
  {
   "cell_type": "markdown",
   "id": "ae01368e",
   "metadata": {},
   "source": [
    "---\n",
    "## Plain backgrounds\n",
    "\n",
    "Here we take our objects and paste them on plain backgrounds, controlling for their overall size in the same way as we did before.\n",
    "\n",
    "By default, the colour of the plain background is equal to the average colour value of all objects."
   ]
  },
  {
   "cell_type": "code",
   "execution_count": 12,
   "id": "6d707141",
   "metadata": {},
   "outputs": [
    {
     "name": "stdout",
     "output_type": "stream",
     "text": [
      "It's all done\n"
     ]
    }
   ],
   "source": [
    "# import all images, adjust size, paste on background, export them\n",
    "\n",
    "for i in range(len(imagePath)):\n",
    "\n",
    "    # extract image\n",
    "    file = imagePath[i]\n",
    "    \n",
    "    # define background colour\n",
    "    try: col_backgrnd\n",
    "    except NameError: col_backgrnd = None\n",
    "    if col_backgrnd is None:\n",
    "        col_backgrnd = avg_colour # if nothing else stated, background colour is average pixel value\n",
    "    else:\n",
    "        col_backgrnd = col_backgrnd\n",
    "    \n",
    "    # create a background\n",
    "    plainSquare = np.ones((outSize[0], outSize[1]), dtype = np.uint8) * col_backgrnd\n",
    "    alphaSquare = np.ones((outSize[0], outSize[1]), dtype = np.uint8) * 255\n",
    "    bckgrnd = cv.merge([plainSquare, plainSquare, plainSquare, alphaSquare])\n",
    "\n",
    "    # extract the name of the image\n",
    "    basename = os.path.basename(imagePath[i])\n",
    "    name = os.path.splitext(basename)[0]\n",
    "    \n",
    "    # remove the number in the name\n",
    "    for character in name:\n",
    "        if character.isdigit():\n",
    "            name = name.replace(character, \"\")\n",
    "\n",
    "    # read the image\n",
    "    im = cv.imread(file, -1)\n",
    "    mask = ndimage.find_objects(im[:,:,3] > 0)[0] # find the bounding box containing the object\n",
    "    im = im[mask] # only keep the object\n",
    "\n",
    "    # find the larger side & its ratio to the smaller one\n",
    "    if im.shape[0] > im.shape[1]:\n",
    "        ratioSide = im.shape[0]/im.shape[1]\n",
    "        height = int(bckgrnd.shape[0] * obj_imRatio)\n",
    "        width = int(height / ratioSide)\n",
    "    elif im.shape[0] <= im.shape[1]:\n",
    "        ratioSide = im.shape[1]/im.shape[0]\n",
    "        width = int(bckgrnd.shape[1] * obj_imRatio)\n",
    "        height = int(width / ratioSide)\n",
    "    \n",
    "    # create dimensions to resize\n",
    "    dim = (round_up_to_even(width), round_up_to_even(height))\n",
    "\n",
    "    # resize image\n",
    "    resized_im = cv.resize(im, dim, interpolation = cv.INTER_AREA)\n",
    "\n",
    "    # pasting the resized object on each background\n",
    "    # getting the offset coordinates\n",
    "    center = bckgrnd.shape[0]//2, bckgrnd.shape[1]//2\n",
    "    x1, x2 = center[1] - resized_im.shape[1]//2, center[1] + resized_im.shape[1]//2\n",
    "    y1, y2 = center[0] - resized_im.shape[0]//2, center[0] + resized_im.shape[0]//2\n",
    "\n",
    "    # amending the alpha values of the image for the loop\n",
    "    b,g,r,a = cv.split(resized_im)\n",
    "    a = a / 255.0\n",
    "    alpha_square = 1.0 - a\n",
    "    # pasting objects on backgrounds\n",
    "    for c in range(0, 3):\n",
    "        bckgrnd[y1:y2,x1:x2,c] = (a * resized_im[:, :, c] + alpha_square * bckgrnd[y1:y2,x1:x2,c])\n",
    "    \n",
    "    # write the output\n",
    "    cv.imwrite(plain_outputPath + name + str(i) + '.png', bckgrnd)\n",
    "\n",
    "print('It\\'s all done')"
   ]
  },
  {
   "cell_type": "markdown",
   "id": "21db66db",
   "metadata": {},
   "source": [
    "_References_\n",
    "\n",
    "https://stats.stackexchange.com/questions/46429/transform-data-to-desired-mean-and-standard-deviation\n",
    "\n",
    "Matching luminance histograms:\n",
    "- https://github.com/aliprf/CV-HistogramMatching\n",
    "\n",
    "_(some references are lacking here)_"
   ]
  }
 ],
 "metadata": {
  "kernelspec": {
   "display_name": "Python 3 (ipykernel)",
   "language": "python",
   "name": "python3"
  },
  "language_info": {
   "codemirror_mode": {
    "name": "ipython",
    "version": 3
   },
   "file_extension": ".py",
   "mimetype": "text/x-python",
   "name": "python",
   "nbconvert_exporter": "python",
   "pygments_lexer": "ipython3",
   "version": "3.10.1"
  }
 },
 "nbformat": 4,
 "nbformat_minor": 5
}
